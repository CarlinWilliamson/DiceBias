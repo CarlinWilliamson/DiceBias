{
 "cells": [
  {
   "cell_type": "code",
   "execution_count": 7,
   "metadata": {},
   "outputs": [],
   "source": [
    "import pickle\n",
    "import cv2\n",
    "from imutils import paths # remove this at some point\n",
    "from keras.models import load_model\n",
    "import os\n",
    "from imutils import paths # remove this at some point\n",
    "\n",
    "WIDTH = 64\n",
    "HEIGHT = 64"
   ]
  },
  {
   "cell_type": "code",
   "execution_count": 8,
   "metadata": {},
   "outputs": [
    {
     "name": "stdout",
     "output_type": "stream",
     "text": [
      "[INFO] loading network and label binarizer...\n"
     ]
    }
   ],
   "source": [
    "print(\"[INFO] loading network and label binarizer...\")\n",
    "model = load_model(\"../read_d6_top_60/model\")\n",
    "lb = pickle.loads(open(\"../read_d6_top_60/label_binarizer\", \"rb\").read())"
   ]
  },
  {
   "cell_type": "code",
   "execution_count": 28,
   "metadata": {},
   "outputs": [
    {
     "name": "stdout",
     "output_type": "stream",
     "text": [
      "Thought ../read_d6_top_60/d6/d6_1_115148391_1.png was 3\n",
      "Thought ../read_d6_top_60/d6/d6_1_115156956_4.png was 2\n",
      "Thought ../read_d6_top_60/d6/d6_1_152244196_3.png was 4\n",
      "Thought ../read_d6_top_60/d6/d6_1_152430130_3.png was 4\n",
      "Thought ../read_d6_top_60/d6/d6_1_152441491_5.png was 4\n",
      "Thought ../read_d6_top_60/d6/d6_2_115248247_1.png was 4\n",
      "Thought ../read_d6_top_60/d6/d6_2_151937745_1.png was 3\n",
      "Thought ../read_d6_top_60/d6/d6_2_152030866_3.png was 4\n",
      "Thought ../read_d6_top_60/d6/d6_3_115400389_3.png was 5\n",
      "Thought ../read_d6_top_60/d6/d6_3_115406497_2.png was 2\n",
      "Thought ../read_d6_top_60/d6/d6_3_115406497_3.png was 2\n",
      "Thought ../read_d6_top_60/d6/d6_3_115418289_4.png was 5\n",
      "Thought ../read_d6_top_60/d6/d6_3_115429372_2.png was 6\n",
      "Thought ../read_d6_top_60/d6/d6_3_115429372_4.png was 5\n",
      "Thought ../read_d6_top_60/d6/d6_3_151854572_4.png was 2\n",
      "Thought ../read_d6_top_60/d6/d6_4_115515498_4.png was 5\n",
      "Thought ../read_d6_top_60/d6/d6_4_115542297_1.png was 2\n",
      "Thought ../read_d6_top_60/d6/d6_4_115542297_4.png was 2\n",
      "Thought ../read_d6_top_60/d6/d6_4_115546165_4.png was 1\n",
      "Thought ../read_d6_top_60/d6/d6_4_151159988_1.png was 5\n",
      "Thought ../read_d6_top_60/d6/d6_4_151159988_2.png was 5\n",
      "Thought ../read_d6_top_60/d6/d6_5_115636044_2.png was 6\n",
      "Thought ../read_d6_top_60/d6/d6_5_115636044_3.png was 4\n",
      "Thought ../read_d6_top_60/d6/d6_5_115644007_1.png was 4\n",
      "Thought ../read_d6_top_60/d6/d6_5_115659205_2.png was 3\n",
      "Thought ../read_d6_top_60/d6/d6_5_115659205_3.png was 3\n",
      "Thought ../read_d6_top_60/d6/d6_5_115707036_2.png was 3\n",
      "Thought ../read_d6_top_60/d6/d6_5_115755987_2.png was 4\n",
      "Thought ../read_d6_top_60/d6/d6_5_115800531_3.png was 3\n",
      "Thought ../read_d6_top_60/d6/d6_5_150313558_3.png was 3\n",
      "Thought ../read_d6_top_60/d6/d6_5_150332920_1.png was 3\n",
      "Thought ../read_d6_top_60/d6/d6_5_151051342_3.png was 4\n",
      "Thought ../read_d6_top_60/d6/d6_5_151059741_3.png was 2\n",
      "Thought ../read_d6_top_60/d6/d6_5_151118141_2.png was 3\n",
      "Thought ../read_d6_top_60/d6/d6_6_150153270_1.png was 2\n",
      "Thought ../read_d6_top_60/d6/d6_6_150208153_1.png was 5\n",
      "0.12131147540983607\n"
     ]
    }
   ],
   "source": [
    "DIR = \"d6\"\n",
    "\n",
    "imagePaths = sorted(list(paths.list_images(\"../read_d6_top_60/d6\")))\n",
    "\n",
    "cv2.startWindowThread()\n",
    "count = 1\n",
    "total = 1\n",
    "\n",
    "for path in imagePaths:\n",
    "    image = cv2.imread(path)\n",
    "    image = cv2.cvtColor(image, cv2.COLOR_BGR2GRAY)\n",
    "    image = cv2.resize(image, (WIDTH, HEIGHT)).flatten()\n",
    "    image = image/255.0\n",
    "    image = image.reshape(1, WIDTH, HEIGHT, 1)\n",
    "\n",
    "    # make a prediction on the image\n",
    "    preds = model.predict(image)\n",
    "\n",
    "    # find the class label index with the largest corresponding\n",
    "    # probability\n",
    "    i = preds.argmax(axis=1)[0]\n",
    "    label = lb.classes_[i]\n",
    "    if label != path.split(os.path.sep)[3].split(\"_\")[1]:\n",
    "        count += 1\n",
    "        print(\"Thought {} was {}\".format(path, label))\n",
    "    total +=1\n",
    "    \n",
    "print(count/total)\n"
   ]
  },
  {
   "cell_type": "code",
   "execution_count": null,
   "metadata": {},
   "outputs": [],
   "source": []
  }
 ],
 "metadata": {
  "kernelspec": {
   "display_name": "Python 3",
   "language": "python",
   "name": "python3"
  },
  "language_info": {
   "codemirror_mode": {
    "name": "ipython",
    "version": 3
   },
   "file_extension": ".py",
   "mimetype": "text/x-python",
   "name": "python",
   "nbconvert_exporter": "python",
   "pygments_lexer": "ipython3",
   "version": "3.5.2"
  }
 },
 "nbformat": 4,
 "nbformat_minor": 2
}
