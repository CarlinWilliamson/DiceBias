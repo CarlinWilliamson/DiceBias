{
 "cells": [
  {
   "cell_type": "code",
   "execution_count": 18,
   "metadata": {},
   "outputs": [],
   "source": [
    "import pickle\n",
    "import cv2\n",
    "from imutils import paths # remove this at some point\n",
    "from keras.models import load_model\n",
    "import os\n",
    "from imutils import paths # remove this at some point\n",
    "\n",
    "WIDTH = 60\n",
    "HEIGHT = 60"
   ]
  },
  {
   "cell_type": "code",
   "execution_count": 19,
   "metadata": {},
   "outputs": [
    {
     "name": "stdout",
     "output_type": "stream",
     "text": [
      "[INFO] loading network and label binarizer...\n"
     ]
    }
   ],
   "source": [
    "print(\"[INFO] loading network and label binarizer...\")\n",
    "model = load_model(\"read_d6_top_close_70/model\")\n",
    "lb = pickle.loads(open(\"read_d6_top_close_70/label_binarizer\", \"rb\").read())"
   ]
  },
  {
   "cell_type": "code",
   "execution_count": 27,
   "metadata": {},
   "outputs": [
    {
     "name": "stdout",
     "output_type": "stream",
     "text": [
      "Thought read_d6_top_close_70/d6/d6_2_115227409_2.png was 4\n",
      "Thought read_d6_top_close_70/d6/d6_2_115233580_2.png was 4\n",
      "Thought read_d6_top_close_70/d6/d6_2_115233580_3.png was 4\n",
      "Thought read_d6_top_close_70/d6/d6_2_115240546_2.png was 4\n",
      "Thought read_d6_top_close_70/d6/d6_2_115316365_4.png was 4\n",
      "Thought read_d6_top_close_70/d6/d6_2_151944946_3.png was 4\n",
      "Thought read_d6_top_close_70/d6/d6_2_152039988_1.png was 4\n",
      "Thought read_d6_top_close_70/d6/d6_2_152039988_2.png was 1\n",
      "Thought read_d6_top_close_70/d6/d6_2_152039988_3.png was 1\n",
      "Thought read_d6_top_close_70/d6/d6_3_115436167_2.png was 5\n",
      "Thought read_d6_top_close_70/d6/d6_3_115436167_4.png was 5\n",
      "Thought read_d6_top_close_70/d6/d6_3_151742085_4.png was 6\n",
      "Thought read_d6_top_close_70/d6/d6_3_151814404_1.png was 6\n",
      "Thought read_d6_top_close_70/d6/d6_3_151825846_1.png was 6\n",
      "Thought read_d6_top_close_70/d6/d6_3_151836572_2.png was 2\n",
      "Thought read_d6_top_close_70/d6/d6_3_151854572_2.png was 5\n",
      "Thought read_d6_top_close_70/d6/d6_3_151854572_3.png was 6\n",
      "Thought read_d6_top_close_70/d6/d6_4_115515498_4.png was 5\n",
      "Thought read_d6_top_close_70/d6/d6_4_115530985_1.png was 5\n",
      "Thought read_d6_top_close_70/d6/d6_4_115536961_1.png was 2\n",
      "Thought read_d6_top_close_70/d6/d6_4_115542297_2.png was 3\n",
      "Thought read_d6_top_close_70/d6/d6_5_115636044_2.png was 6\n",
      "Thought read_d6_top_close_70/d6/d6_5_115644007_2.png was 3\n",
      "Thought read_d6_top_close_70/d6/d6_5_115659205_2.png was 6\n",
      "Thought read_d6_top_close_70/d6/d6_5_150313558_1.png was 2\n",
      "Thought read_d6_top_close_70/d6/d6_5_150332920_1.png was 3\n",
      "Thought read_d6_top_close_70/d6/d6_5_150332920_2.png was 4\n",
      "Thought read_d6_top_close_70/d6/d6_6_115829651_4.png was 5\n",
      "Thought read_d6_top_close_70/d6/d6_6_150219515_1.png was 5\n",
      "Thought read_d6_top_close_70/d6/d6_6_150219515_3.png was 5\n",
      "0.10032362459546926\n"
     ]
    }
   ],
   "source": [
    "DIR = \"d6\"\n",
    "\n",
    "imagePaths = sorted(list(paths.list_images(\"read_d6_top_close_70/d6\")))\n",
    "\n",
    "cv2.startWindowThread()\n",
    "count = 1\n",
    "total = 1\n",
    "\n",
    "for path in imagePaths:\n",
    "    image = cv2.imread(path)\n",
    "    image = cv2.cvtColor(image, cv2.COLOR_BGR2GRAY)\n",
    "    image = cv2.resize(image, (WIDTH, HEIGHT)).flatten()\n",
    "    image = image/255.0\n",
    "    image = image.reshape(1, WIDTH, HEIGHT, 1)\n",
    "\n",
    "    # make a prediction on the image\n",
    "    preds = model.predict(image)\n",
    "\n",
    "    # find the class label index with the largest corresponding\n",
    "    # probability\n",
    "    i = preds.argmax(axis=1)[0]\n",
    "    label = lb.classes_[i]\n",
    "    if label != path.split(os.path.sep)[2].split(\"_\")[1]:\n",
    "        count += 1\n",
    "        print(\"Thought {} was {}\".format(path, label))\n",
    "    total +=1\n",
    "    \n",
    "print(count/total)\n"
   ]
  },
  {
   "cell_type": "code",
   "execution_count": null,
   "metadata": {},
   "outputs": [],
   "source": []
  }
 ],
 "metadata": {
  "kernelspec": {
   "display_name": "Python 3",
   "language": "python",
   "name": "python3"
  },
  "language_info": {
   "codemirror_mode": {
    "name": "ipython",
    "version": 3
   },
   "file_extension": ".py",
   "mimetype": "text/x-python",
   "name": "python",
   "nbconvert_exporter": "python",
   "pygments_lexer": "ipython3",
   "version": "3.5.2"
  }
 },
 "nbformat": 4,
 "nbformat_minor": 2
}
